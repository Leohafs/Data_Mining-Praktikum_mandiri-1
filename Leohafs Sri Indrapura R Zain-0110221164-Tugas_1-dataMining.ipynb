{
  "nbformat": 4,
  "nbformat_minor": 0,
  "metadata": {
    "colab": {
      "provenance": []
    },
    "kernelspec": {
      "name": "python3",
      "display_name": "Python 3"
    },
    "language_info": {
      "name": "python"
    }
  },
  "cells": [
    {
      "cell_type": "code",
      "execution_count": null,
      "metadata": {
        "colab": {
          "base_uri": "https://localhost:8080/"
        },
        "id": "JJIbrli8Uc7d",
        "outputId": "250950f2-831c-4d4d-c7b4-e6ad9e2ebb0c"
      },
      "outputs": [
        {
          "output_type": "stream",
          "name": "stdout",
          "text": [
            "     Gender  Height  Weight  Index\n",
            "0      Male     174      96      4\n",
            "1      Male     189      87      2\n",
            "2    Female     185     110      4\n",
            "3    Female     195     104      3\n",
            "4      Male     149      61      3\n",
            "..      ...     ...     ...    ...\n",
            "495  Female     150     153      5\n",
            "496  Female     184     121      4\n",
            "497  Female     141     136      5\n",
            "498    Male     150      95      5\n",
            "499    Male     173     131      5\n",
            "\n",
            "[500 rows x 4 columns]\n"
          ]
        }
      ],
      "source": [
        "import pandas as pd\n",
        "\n",
        "# menampilkan semua data\n",
        "bmi = pd.read_csv(\"500_Person_Gender_Height_Weight_Index.csv\")\n",
        "print(bmi)"
      ]
    },
    {
      "cell_type": "code",
      "source": [
        "# jumlah data\n",
        "jumlah = bmi.groupby('Gender').count()\n",
        "print(jumlah)"
      ],
      "metadata": {
        "colab": {
          "base_uri": "https://localhost:8080/"
        },
        "id": "-1RIU3n1bZMo",
        "outputId": "ebb07cc0-bb0b-4332-e37d-4f8a6fae6d55"
      },
      "execution_count": null,
      "outputs": [
        {
          "output_type": "stream",
          "name": "stdout",
          "text": [
            "        Height  Weight  Index\n",
            "Gender                       \n",
            "Female     255     255    255\n",
            "Male       245     245    245\n"
          ]
        }
      ]
    },
    {
      "cell_type": "code",
      "source": [
        "# rata-rata\n",
        "rata = bmi.groupby('Gender').mean()\n",
        "print(rata)"
      ],
      "metadata": {
        "colab": {
          "base_uri": "https://localhost:8080/"
        },
        "id": "e_-aMJC0cfDs",
        "outputId": "af0e85f9-4f54-46a1-ff61-f1a03558dae5"
      },
      "execution_count": null,
      "outputs": [
        {
          "output_type": "stream",
          "name": "stdout",
          "text": [
            "            Height      Weight     Index\n",
            "Gender                                  \n",
            "Female  170.227451  105.698039  3.709804\n",
            "Male    169.648980  106.314286  3.787755\n"
          ]
        }
      ]
    },
    {
      "cell_type": "code",
      "source": [
        "# nilai minimum\n",
        "min = bmi.groupby('Gender').min()\n",
        "print(min)"
      ],
      "metadata": {
        "colab": {
          "base_uri": "https://localhost:8080/"
        },
        "id": "jmcIrZ_adecX",
        "outputId": "aedf62da-38b7-4ff0-9f3b-9b939f3819f3"
      },
      "execution_count": null,
      "outputs": [
        {
          "output_type": "stream",
          "name": "stdout",
          "text": [
            "        Height  Weight  Index\n",
            "Gender                       \n",
            "Female     140      50      0\n",
            "Male       140      50      0\n"
          ]
        }
      ]
    },
    {
      "cell_type": "code",
      "source": [
        "# nilai maksimum\n",
        "max = bmi.groupby('Gender').max()\n",
        "print(max)"
      ],
      "metadata": {
        "colab": {
          "base_uri": "https://localhost:8080/"
        },
        "id": "M0VbDa7cdox-",
        "outputId": "8a009a37-ff58-4048-d1ee-e4ce7837ff5e"
      },
      "execution_count": null,
      "outputs": [
        {
          "output_type": "stream",
          "name": "stdout",
          "text": [
            "        Height  Weight  Index\n",
            "Gender                       \n",
            "Female     199     160      5\n",
            "Male       199     160      5\n"
          ]
        }
      ]
    },
    {
      "cell_type": "code",
      "source": [
        "# Ubah kolom gender menjadi data binary: Female – 0, Male – 1\n",
        "bmi['Gender'] = bmi['Gender'].map({'Male': 0, 'Female': 1})\n",
        "print(bmi)"
      ],
      "metadata": {
        "colab": {
          "base_uri": "https://localhost:8080/"
        },
        "id": "eXSfVnnMWBxx",
        "outputId": "dcbf937f-903e-4db1-ffff-02d4951cc102"
      },
      "execution_count": null,
      "outputs": [
        {
          "output_type": "stream",
          "name": "stdout",
          "text": [
            "     Gender  Height  Weight  Index\n",
            "0         0     174      96      4\n",
            "1         0     189      87      2\n",
            "2         1     185     110      4\n",
            "3         1     195     104      3\n",
            "4         0     149      61      3\n",
            "..      ...     ...     ...    ...\n",
            "495       1     150     153      5\n",
            "496       1     184     121      4\n",
            "497       1     141     136      5\n",
            "498       0     150      95      5\n",
            "499       0     173     131      5\n",
            "\n",
            "[500 rows x 4 columns]\n"
          ]
        }
      ]
    },
    {
      "cell_type": "code",
      "source": [
        "import matplotlib.pyplot as plt\n",
        "\n",
        "# Menghitung jumlah setiap Index_BMI berdasarkan Gender\n",
        "index_counts = bmi.groupby(['Gender', 'Index']).size().unstack(fill_value=0)\n",
        "\n",
        "# Menampilkan grafik\n",
        "index_counts.plot(kind='bar', stacked=True)\n",
        "plt.title('Grafik Index BMI Berdasarkan Gender')\n",
        "plt.xlabel('Gender')\n",
        "plt.ylabel('Jumlah')\n",
        "plt.xticks(rotation=0)\n",
        "plt.legend(title='Index BMI', labels=[\n",
        "    'Extremely Weak', 'Weak', 'Normal',\n",
        "    'Overweight', 'Obesity', 'Extreme Obesity'\n",
        "])\n",
        "plt.tight_layout()\n",
        "plt.show()"
      ],
      "metadata": {
        "colab": {
          "base_uri": "https://localhost:8080/",
          "height": 487
        },
        "id": "k8s06LhGeFhl",
        "outputId": "5ee9f37e-46fc-432f-c292-d1c00081431f"
      },
      "execution_count": null,
      "outputs": [
        {
          "output_type": "display_data",
          "data": {
            "text/plain": [
              "<Figure size 640x480 with 1 Axes>"
            ],
            "image/png": "[encoded data removed]"
          },
          "metadata": {}
        }
      ]
    }
  ]
}